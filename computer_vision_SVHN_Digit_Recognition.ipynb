{
  "cells": [
    {
      "cell_type": "markdown",
      "metadata": {
        "id": "Q91KqmCRu64D"
      },
      "source": [
        "# **Deep Learning Project: Street View Housing Number Digit Recognition**\n",
        "\n",
        "\n",
        "--------------\n",
        "## **Context**\n",
        "--------------\n",
        "\n",
        "One of the most interesting tasks in deep learning is to recognize objects in natural scenes. The ability to process visual information using machine learning algorithms can be very useful as demonstrated in various applications.\n",
        "\n",
        "The SVHN dataset contains over 600,000 labeled digits cropped from street-level photos. It is one of the most popular image recognition datasets. It has been used in neural networks created by Google to improve the map quality by automatically transcribing the address numbers from a patch of pixels. The transcribed number with a known street address helps pinpoint the location of the building it represents.\n",
        "\n",
        "----------------\n",
        "## **Objective**\n",
        "----------------\n",
        "\n",
        "Our objective is to predict the number depicted inside the image by using Artificial or Fully Connected Feed Forward Neural Networks and Convolutional Neural Networks. We will go through various models of each and finally select the one that is giving us the best performance.\n",
        "\n",
        "-------------\n",
        "## **Dataset**\n",
        "-------------\n",
        "Here, we will use a subset of the original data to save some computation time. The dataset is provided as a .h5 file. The basic preprocessing steps have been applied on the dataset."
      ]
    },
    {
      "cell_type": "markdown",
      "metadata": {
        "id": "8z2Z7-OAs8QG"
      },
      "source": [
        "## **Mount the drive**\n",
        "\n",
        "Let us start by mounting the Google drive. You can run the below cell to mount the Google drive."
      ]
    },
    {
      "cell_type": "code",
      "execution_count": null,
      "metadata": {
        "id": "03lDyQUuef7z",
        "colab": {
          "base_uri": "https://localhost:8080/"
        },
        "outputId": "23ae5642-387d-4a4d-f13d-9e28fcf1aca6"
      },
      "outputs": [
        {
          "output_type": "stream",
          "name": "stdout",
          "text": [
            "Mounted at /content/drive\n"
          ]
        }
      ],
      "source": [
        "from google.colab import drive\n",
        "drive.mount('/content/drive')"
      ]
    },
    {
      "cell_type": "markdown",
      "metadata": {
        "id": "C8U3DUa3eNsT"
      },
      "source": [
        "## **Importing the necessary libraries**"
      ]
    },
    {
      "cell_type": "code",
      "execution_count": null,
      "metadata": {
        "id": "-dVzeuF3eQx1"
      },
      "outputs": [],
      "source": [
        "import pandas as pd\n",
        "import numpy as np\n",
        "import seaborn as sns\n",
        "import matplotlib.pyplot as plt\n",
        "\n",
        "import tensorflow as tf\n",
        "\n",
        "# Keras Sequential Model\n",
        "from tensorflow.keras.models import Sequential\n",
        "\n",
        "# Importing all the different layers and optimizers\n",
        "from tensorflow.keras.layers import Dense, Dropout, Flatten, Conv2D, MaxPooling2D, BatchNormalization, Activation, LeakyReLU\n",
        "from tensorflow.keras.optimizers import Adam\n",
        "from tensorflow.keras import backend\n",
        "\n",
        "# For one-hot encoding\n",
        "from tensorflow.keras.utils import to_categorical"
      ]
    },
    {
      "cell_type": "code",
      "source": [
        "# Import h5py to read the file\n",
        "import h5py"
      ],
      "metadata": {
        "id": "kIUNYcU2DCRy"
      },
      "execution_count": null,
      "outputs": []
    },
    {
      "cell_type": "markdown",
      "metadata": {
        "id": "ucnevGLoyKf_"
      },
      "source": [
        "**Let us check the version of tensorflow.**"
      ]
    },
    {
      "cell_type": "code",
      "execution_count": null,
      "metadata": {
        "id": "W5as47YxyJVk",
        "colab": {
          "base_uri": "https://localhost:8080/",
          "height": 36
        },
        "outputId": "d52fad7b-fd8e-471f-98c6-f6fd3cac17a0"
      },
      "outputs": [
        {
          "output_type": "execute_result",
          "data": {
            "text/plain": [
              "'2.12.0'"
            ],
            "application/vnd.google.colaboratory.intrinsic+json": {
              "type": "string"
            }
          },
          "metadata": {},
          "execution_count": 4
        }
      ],
      "source": [
        "tf.__version__"
      ]
    },
    {
      "cell_type": "markdown",
      "metadata": {
        "id": "8lsux2ZwyTTR"
      },
      "source": [
        "## **Load the dataset**\n",
        "\n",
        "- Let us now load the dataset that is available as a .h5 file.\n",
        "- Split the data into the train and the test dataset."
      ]
    },
    {
      "cell_type": "code",
      "execution_count": null,
      "metadata": {
        "id": "BApX9qgNsqV0",
        "scrolled": true
      },
      "outputs": [],
      "source": [
        "h5f = h5py.File('/content/drive/MyDrive/SVHN_single_grey1.h5', 'r')"
      ]
    },
    {
      "cell_type": "code",
      "source": [
        "# see which datasets are available\n",
        "list(h5f.keys())"
      ],
      "metadata": {
        "colab": {
          "base_uri": "https://localhost:8080/"
        },
        "id": "gplg8jMOGGMY",
        "outputId": "dfb866d2-ea71-41c9-c16f-36b81ab4b0a7"
      },
      "execution_count": null,
      "outputs": [
        {
          "output_type": "execute_result",
          "data": {
            "text/plain": [
              "['X_test', 'X_train', 'X_val', 'y_test', 'y_train', 'y_val']"
            ]
          },
          "metadata": {},
          "execution_count": 6
        }
      ]
    },
    {
      "cell_type": "code",
      "source": [
        "# Load the training and test datasets\n",
        "\n",
        "X_train = h5f['X_train'][:]\n",
        "\n",
        "y_train = h5f['y_train'][:]\n",
        "\n",
        "X_test = h5f['X_test'][:]\n",
        "\n",
        "y_test = h5f['y_test'][:]\n",
        "\n",
        "\n",
        "# Close this file\n",
        "\n",
        "h5f.close()"
      ],
      "metadata": {
        "id": "VSV3cQWQH0VO"
      },
      "execution_count": null,
      "outputs": []
    },
    {
      "cell_type": "markdown",
      "metadata": {
        "id": "hVe0CYpUgj7w"
      },
      "source": [
        "Check the number of images in the training and the testing dataset."
      ]
    },
    {
      "cell_type": "code",
      "execution_count": null,
      "metadata": {
        "id": "y3lwKpOefkpA",
        "colab": {
          "base_uri": "https://localhost:8080/"
        },
        "outputId": "0e3cb78a-bbc3-4b89-9c1e-0ad95aa7a053"
      },
      "outputs": [
        {
          "output_type": "execute_result",
          "data": {
            "text/plain": [
              "(42000, 18000)"
            ]
          },
          "metadata": {},
          "execution_count": 8
        }
      ],
      "source": [
        "len(X_train), len(X_test)"
      ]
    },
    {
      "cell_type": "markdown",
      "metadata": {
        "id": "akTUOfLlgwoM"
      },
      "source": [
        "**Observation:**"
      ]
    },
    {
      "cell_type": "markdown",
      "metadata": {
        "id": "kxODV6HKykuc"
      },
      "source": [
        "## **Visualizing images**\n",
        "\n",
        "- Use X_train to visualize the first 10 images.\n",
        "- Use Y_train to print the first 10 labels."
      ]
    },
    {
      "cell_type": "code",
      "execution_count": null,
      "metadata": {
        "id": "Bvsc8ytHsqWD",
        "colab": {
          "base_uri": "https://localhost:8080/",
          "height": 1000
        },
        "outputId": "ec4c6203-0dab-4f87-c0da-579c0782351f"
      },
      "outputs": [
        {
          "output_type": "display_data",
          "data": {
            "text/plain": [
              "<Figure size 1000x100 with 1 Axes>"
            ],
            "image/png": "[encoded data removed]"
          },
          "metadata": {}
        },
        {
          "output_type": "stream",
          "name": "stdout",
          "text": [
            "Label of the above image is 2\n"
          ]
        },
        {
          "output_type": "display_data",
          "data": {
            "text/plain": [
              "<Figure size 1000x100 with 1 Axes>"
            ],
            "image/png": "[encoded data removed]"
          },
          "metadata": {}
        },
        {
          "output_type": "stream",
          "name": "stdout",
          "text": [
            "Label of the above image is 6\n"
          ]
        },
        {
          "output_type": "display_data",
          "data": {
            "text/plain": [
              "<Figure size 1000x100 with 1 Axes>"
            ],
            "image/png": "[encoded data removed]"
          },
          "metadata": {}
        },
        {
          "output_type": "stream",
          "name": "stdout",
          "text": [
            "Label of the above image is 7\n"
          ]
        },
        {
          "output_type": "display_data",
          "data": {
            "text/plain": [
              "<Figure size 1000x100 with 1 Axes>"
            ],
            "image/png": "[encoded data removed]"
          },
          "metadata": {}
        },
        {
          "output_type": "stream",
          "name": "stdout",
          "text": [
            "Label of the above image is 4\n"
          ]
        },
        {
          "output_type": "display_data",
          "data": {
            "text/plain": [
              "<Figure size 1000x100 with 1 Axes>"
            ],
            "image/png": "[encoded data removed]"
          },
          "metadata": {}
        },
        {
          "output_type": "stream",
          "name": "stdout",
          "text": [
            "Label of the above image is 4\n"
          ]
        },
        {
          "output_type": "display_data",
          "data": {
            "text/plain": [
              "<Figure size 1000x100 with 1 Axes>"
            ],
            "image/png": "[encoded data removed]"
          },
          "metadata": {}
        },
        {
          "output_type": "stream",
          "name": "stdout",
          "text": [
            "Label of the above image is 0\n"
          ]
        },
        {
          "output_type": "display_data",
          "data": {
            "text/plain": [
              "<Figure size 1000x100 with 1 Axes>"
            ],
            "image/png": "[encoded data removed]"
          },
          "metadata": {}
        },
        {
          "output_type": "stream",
          "name": "stdout",
          "text": [
            "Label of the above image is 3\n"
          ]
        },
        {
          "output_type": "display_data",
          "data": {
            "text/plain": [
              "<Figure size 1000x100 with 1 Axes>"
            ],
            "image/png": "[encoded data removed]"
          },
          "metadata": {}
        },
        {
          "output_type": "stream",
          "name": "stdout",
          "text": [
            "Label of the above image is 0\n"
          ]
        },
        {
          "output_type": "display_data",
          "data": {
            "text/plain": [
              "<Figure size 1000x100 with 1 Axes>"
            ],
            "image/png": "[encoded data removed]"
          },
          "metadata": {}
        },
        {
          "output_type": "stream",
          "name": "stdout",
          "text": [
            "Label of the above image is 7\n"
          ]
        },
        {
          "output_type": "display_data",
          "data": {
            "text/plain": [
              "<Figure size 1000x100 with 1 Axes>"
            ],
            "image/png": "[encoded data removed]"
          },
          "metadata": {}
        },
        {
          "output_type": "stream",
          "name": "stdout",
          "text": [
            "Label of the above image is 3\n"
          ]
        }
      ],
      "source": [
        "for i in range(10):\n",
        "  plt.figure(figsize = (10, 1))\n",
        "  plt.imshow(X_train[i], cmap='gray')\n",
        "  plt.show()\n",
        "  print('Label of the above image is {}'.format(y_train[i]))"
      ]
    },
    {
      "cell_type": "markdown",
      "metadata": {
        "id": "kzoyeXHOy80N"
      },
      "source": [
        "## **Data preparation**\n",
        "\n",
        "- Print the shape and the array of pixels for the first image in the training dataset.\n",
        "- Normalize the train and the test dataset by dividing by 255.\n",
        "- Print the new shapes of the train and the test dataset.\n",
        "- One-hot encode the target variable."
      ]
    },
    {
      "cell_type": "markdown",
      "metadata": {
        "id": "YSlYN6pb8kMY"
      },
      "source": [
        "Print the shapes of Training and Test data"
      ]
    },
    {
      "cell_type": "code",
      "execution_count": null,
      "metadata": {
        "id": "NqndzQXng9rL",
        "colab": {
          "base_uri": "https://localhost:8080/"
        },
        "outputId": "d269076d-d9e5-44b9-a62b-2a6e8be5b525"
      },
      "outputs": [
        {
          "output_type": "stream",
          "name": "stdout",
          "text": [
            "The shape of the first image is (32, 32)\n"
          ]
        }
      ],
      "source": [
        "print(\"The shape of the first image is {}\".format(X_train[0].shape))"
      ]
    },
    {
      "cell_type": "code",
      "source": [
        "# Print the array of pixels for the first image\n",
        "X_train[0]"
      ],
      "metadata": {
        "colab": {
          "base_uri": "https://localhost:8080/"
        },
        "id": "O6C44QIsL7LW",
        "outputId": "fc398177-7147-439b-cb32-f881a4ddc751"
      },
      "execution_count": null,
      "outputs": [
        {
          "output_type": "execute_result",
          "data": {
            "text/plain": [
              "array([[ 33.0704,  30.2601,  26.852 , ...,  71.4471,  58.2204,  42.9939],\n",
              "       [ 25.2283,  25.5533,  29.9765, ..., 113.0209, 103.3639,  84.2949],\n",
              "       [ 26.2775,  22.6137,  40.4763, ..., 113.3028, 121.775 , 115.4228],\n",
              "       ...,\n",
              "       [ 28.5502,  36.212 ,  45.0801, ...,  24.1359,  25.0927,  26.0603],\n",
              "       [ 38.4352,  26.4733,  23.2717, ...,  28.1094,  29.4683,  30.0661],\n",
              "       [ 50.2984,  26.0773,  24.0389, ...,  49.6682,  50.853 ,  53.0377]],\n",
              "      dtype=float32)"
            ]
          },
          "metadata": {},
          "execution_count": 11
        }
      ]
    },
    {
      "cell_type": "markdown",
      "metadata": {
        "id": "f4CQkKtQ0XII"
      },
      "source": [
        "### **Normalize the train and the test data**"
      ]
    },
    {
      "cell_type": "code",
      "source": [
        "# Normalize the train and test dataset by dividing by 255\n",
        "X_train = X_train / 255\n",
        "X_test = X_test / 255\n",
        "\n",
        "# Verify that the first image has been normalized\n",
        "X_train[0]"
      ],
      "metadata": {
        "colab": {
          "base_uri": "https://localhost:8080/"
        },
        "id": "Yueav1cyMD2-",
        "outputId": "671d361c-dc25-416f-93be-a6d28d2da465"
      },
      "execution_count": null,
      "outputs": [
        {
          "output_type": "execute_result",
          "data": {
            "text/plain": [
              "array([[0.12968785, 0.11866706, 0.10530196, ..., 0.2801847 , 0.2283153 ,\n",
              "        0.16860352],\n",
              "       [0.09893451, 0.10020902, 0.1175549 , ..., 0.4432192 , 0.40534863,\n",
              "        0.33056822],\n",
              "       [0.10304902, 0.08868118, 0.15873058, ..., 0.44432473, 0.47754902,\n",
              "        0.45263842],\n",
              "       ...,\n",
              "       [0.11196157, 0.14200786, 0.17678471, ..., 0.09465059, 0.09840274,\n",
              "        0.10219726],\n",
              "       [0.15072627, 0.10381687, 0.09126157, ..., 0.11023294, 0.11556196,\n",
              "        0.11790627],\n",
              "       [0.19724864, 0.10226392, 0.0942702 , ..., 0.19477727, 0.19942354,\n",
              "        0.20799099]], dtype=float32)"
            ]
          },
          "metadata": {},
          "execution_count": 12
        }
      ]
    },
    {
      "cell_type": "code",
      "source": [
        "# Shape of the first training image before reshaping\n",
        "X_train[0].shape"
      ],
      "metadata": {
        "colab": {
          "base_uri": "https://localhost:8080/"
        },
        "id": "bCzTswGZN6N8",
        "outputId": "b4605989-0433-4b8e-f255-c3e673261806"
      },
      "execution_count": null,
      "outputs": [
        {
          "output_type": "execute_result",
          "data": {
            "text/plain": [
              "(32, 32)"
            ]
          },
          "metadata": {},
          "execution_count": 13
        }
      ]
    },
    {
      "cell_type": "code",
      "source": [
        "# Reshape the 2D image into 1D space\n",
        "X_train = X_train.reshape(X_train.shape[0], 1024)\n",
        "X_test = X_test.reshape(X_test.shape[0], 1024)"
      ],
      "metadata": {
        "id": "DutbKdn9OIon"
      },
      "execution_count": null,
      "outputs": []
    },
    {
      "cell_type": "code",
      "source": [
        "# Shape of the first image after reshaping\n",
        "X_train[0].shape"
      ],
      "metadata": {
        "colab": {
          "base_uri": "https://localhost:8080/"
        },
        "id": "03349GfeOTY1",
        "outputId": "443e5700-a71e-42fc-d527-9979779c6d7c"
      },
      "execution_count": null,
      "outputs": [
        {
          "output_type": "execute_result",
          "data": {
            "text/plain": [
              "(1024,)"
            ]
          },
          "metadata": {},
          "execution_count": 15
        }
      ]
    },
    {
      "cell_type": "markdown",
      "metadata": {
        "id": "0uLxXBpz81vk"
      },
      "source": [
        "### **One-hot encode output**"
      ]
    },
    {
      "cell_type": "code",
      "execution_count": null,
      "metadata": {
        "id": "zL0lYER4sqWw",
        "colab": {
          "base_uri": "https://localhost:8080/"
        },
        "outputId": "7fbecbb9-1f71-4b88-bed8-279fa95b3d11"
      },
      "outputs": [
        {
          "output_type": "execute_result",
          "data": {
            "text/plain": [
              "array([[0., 1., 0., ..., 0., 0., 0.],\n",
              "       [0., 0., 0., ..., 1., 0., 0.],\n",
              "       [0., 0., 1., ..., 0., 0., 0.],\n",
              "       ...,\n",
              "       [0., 0., 0., ..., 1., 0., 0.],\n",
              "       [0., 0., 0., ..., 0., 0., 1.],\n",
              "       [0., 0., 1., ..., 0., 0., 0.]], dtype=float32)"
            ]
          },
          "metadata": {},
          "execution_count": 16
        }
      ],
      "source": [
        "# One-hot encode the labels\n",
        "y_train = to_categorical(y_train)\n",
        "y_test = to_categorical(y_test)\n",
        "\n",
        "# View test labels\n",
        "y_test"
      ]
    },
    {
      "cell_type": "markdown",
      "metadata": {
        "id": "ViqPOTquCF76"
      },
      "source": [
        "**Observation:**\n",
        "\n",
        "* The training data is not perfectly clean. Some of the examples have other numbers to the left and right of the target that might make training more difficult. Depending on model performance and time allowed, it might make sense to clean the training data more."
      ]
    },
    {
      "cell_type": "markdown",
      "metadata": {
        "id": "yH-gVrzuByNA"
      },
      "source": [
        "## **Model Building**\n",
        "\n",
        "Now that we have done the data preprocessing, let's build an ANN model.\n",
        "\n",
        "### Fix the seed for random number generators"
      ]
    },
    {
      "cell_type": "code",
      "execution_count": null,
      "metadata": {
        "id": "BcKRwrGn0XIL"
      },
      "outputs": [],
      "source": [
        "# Fix the seed for random number generators\n",
        "\n",
        "np.random.seed(100)\n",
        "\n",
        "import random\n",
        "\n",
        "random.seed(100)\n",
        "tf.random.set_seed(100)"
      ]
    },
    {
      "cell_type": "markdown",
      "metadata": {
        "id": "UJDUoaEj1d6e"
      },
      "source": [
        "### **Model Architecture**\n",
        "- Write a function that returns a sequential model with the following architecture:\n",
        " - First hidden layer with **64 nodes and the relu activation** and the **input shape = (1024, )**\n",
        " - Second hidden layer with **32 nodes and the relu activation**\n",
        " - Output layer with **activation as 'softmax' and number of nodes equal to the number of classes, i.e., 10**\n",
        " - Compile the model with the **loss equal to categorical_crossentropy, optimizer equal to Adam(learning_rate = 0.001), and metric equal to 'accuracy'**. Do not fit the model here, just return the compiled model.\n",
        "- Call the nn_model_1 function and store the model in a new variable.\n",
        "- Print the summary of the model.\n",
        "- Fit on the train data with a **validation split of 0.2, batch size = 128, verbose = 1, and epochs = 20**. Store the model building history to use later for visualization."
      ]
    },
    {
      "cell_type": "markdown",
      "metadata": {
        "id": "A48z6ucF0XIP"
      },
      "source": [
        "### **Build and train an ANN model as per the above mentioned architecture.**"
      ]
    },
    {
      "cell_type": "code",
      "execution_count": null,
      "metadata": {
        "id": "Cmi81Gr5sqW-"
      },
      "outputs": [],
      "source": [
        "# Define the model\n",
        "\n",
        "def nn_model_1():\n",
        "  model = Sequential()\n",
        "\n",
        "  # Add layers\n",
        "\n",
        "  # This adds the input layer (by specifying input dimesion) AND the first hidden layer (units)\n",
        "  model.add(Dense(activation='relu', input_dim=1024, units=64))\n",
        "\n",
        "  # This adds the second hidden layer with 32 nodes\n",
        "  model.add(Dense(32, activation='relu'))\n",
        "\n",
        "  # This adds the output layer with number of nodes equal to number of classes\n",
        "  model.add(Dense(10, activation = 'softmax'))\n",
        "\n",
        "  # Compile\n",
        "  model.compile(optimizer='Adam', loss='categorical_crossentropy', metrics=['accuracy'])\n",
        "\n",
        "  return model"
      ]
    },
    {
      "cell_type": "code",
      "source": [
        "# Call the model and store as a new variable\n",
        "model = nn_model_1()"
      ],
      "metadata": {
        "id": "p9jIldayTWsw"
      },
      "execution_count": null,
      "outputs": []
    },
    {
      "cell_type": "code",
      "source": [
        "# Print the model summary\n",
        "model.summary()"
      ],
      "metadata": {
        "colab": {
          "base_uri": "https://localhost:8080/"
        },
        "id": "BCYMGfFtTgzQ",
        "outputId": "302d8414-443b-4f66-b7db-d6579b2657dd"
      },
      "execution_count": null,
      "outputs": [
        {
          "output_type": "stream",
          "name": "stdout",
          "text": [
            "Model: \"sequential\"\n",
            "_________________________________________________________________\n",
            " Layer (type)                Output Shape              Param #   \n",
            "=================================================================\n",
            " dense (Dense)               (None, 64)                65600     \n",
            "                                                                 \n",
            " dense_1 (Dense)             (None, 32)                2080      \n",
            "                                                                 \n",
            " dense_2 (Dense)             (None, 10)                330       \n",
            "                                                                 \n",
            "=================================================================\n",
            "Total params: 68,010\n",
            "Trainable params: 68,010\n",
            "Non-trainable params: 0\n",
            "_________________________________________________________________\n"
          ]
        }
      ]
    },
    {
      "cell_type": "code",
      "source": [
        "# Fit on train data and store as history\n",
        "history = model.fit(X_train, y_train,\n",
        "                    validation_split=0.2,\n",
        "                    epochs=20,\n",
        "                    batch_size=128, verbose=1\n",
        "                    )"
      ],
      "metadata": {
        "colab": {
          "base_uri": "https://localhost:8080/"
        },
        "id": "eM8xEXw7TqfO",
        "outputId": "dc451576-d2de-4579-d7fc-0446a931ce56"
      },
      "execution_count": null,
      "outputs": [
        {
          "output_type": "stream",
          "name": "stdout",
          "text": [
            "Epoch 1/20\n",
            "263/263 [==============================] - 6s 19ms/step - loss: 2.3048 - accuracy: 0.0978 - val_loss: 2.3024 - val_accuracy: 0.0974\n",
            "Epoch 2/20\n",
            "263/263 [==============================] - 2s 6ms/step - loss: 2.2914 - accuracy: 0.1094 - val_loss: 2.2631 - val_accuracy: 0.1224\n",
            "Epoch 3/20\n",
            "263/263 [==============================] - 1s 5ms/step - loss: 2.2116 - accuracy: 0.1545 - val_loss: 2.1541 - val_accuracy: 0.1885\n",
            "Epoch 4/20\n",
            "263/263 [==============================] - 1s 6ms/step - loss: 2.0111 - accuracy: 0.2677 - val_loss: 1.8491 - val_accuracy: 0.3645\n",
            "Epoch 5/20\n",
            "263/263 [==============================] - 2s 7ms/step - loss: 1.6511 - accuracy: 0.4490 - val_loss: 1.5453 - val_accuracy: 0.4788\n",
            "Epoch 6/20\n",
            "263/263 [==============================] - 2s 8ms/step - loss: 1.4408 - accuracy: 0.5244 - val_loss: 1.4264 - val_accuracy: 0.5308\n",
            "Epoch 7/20\n",
            "263/263 [==============================] - 2s 9ms/step - loss: 1.3575 - accuracy: 0.5567 - val_loss: 1.3558 - val_accuracy: 0.5621\n",
            "Epoch 8/20\n",
            "263/263 [==============================] - 1s 5ms/step - loss: 1.3129 - accuracy: 0.5753 - val_loss: 1.2978 - val_accuracy: 0.5808\n",
            "Epoch 9/20\n",
            "263/263 [==============================] - 1s 6ms/step - loss: 1.2633 - accuracy: 0.5979 - val_loss: 1.2738 - val_accuracy: 0.5926\n",
            "Epoch 10/20\n",
            "263/263 [==============================] - 1s 5ms/step - loss: 1.2365 - accuracy: 0.6073 - val_loss: 1.2478 - val_accuracy: 0.6010\n",
            "Epoch 11/20\n",
            "263/263 [==============================] - 1s 5ms/step - loss: 1.2091 - accuracy: 0.6194 - val_loss: 1.1905 - val_accuracy: 0.6318\n",
            "Epoch 12/20\n",
            "263/263 [==============================] - 1s 5ms/step - loss: 1.1790 - accuracy: 0.6307 - val_loss: 1.1965 - val_accuracy: 0.6150\n",
            "Epoch 13/20\n",
            "263/263 [==============================] - 1s 5ms/step - loss: 1.1632 - accuracy: 0.6367 - val_loss: 1.1748 - val_accuracy: 0.6404\n",
            "Epoch 14/20\n",
            "263/263 [==============================] - 1s 5ms/step - loss: 1.1399 - accuracy: 0.6469 - val_loss: 1.1700 - val_accuracy: 0.6333\n",
            "Epoch 15/20\n",
            "263/263 [==============================] - 2s 8ms/step - loss: 1.1236 - accuracy: 0.6530 - val_loss: 1.1438 - val_accuracy: 0.6520\n",
            "Epoch 16/20\n",
            "263/263 [==============================] - 5s 17ms/step - loss: 1.1024 - accuracy: 0.6612 - val_loss: 1.1364 - val_accuracy: 0.6510\n",
            "Epoch 17/20\n",
            "263/263 [==============================] - 2s 8ms/step - loss: 1.0896 - accuracy: 0.6666 - val_loss: 1.1292 - val_accuracy: 0.6518\n",
            "Epoch 18/20\n",
            "263/263 [==============================] - 1s 5ms/step - loss: 1.0682 - accuracy: 0.6737 - val_loss: 1.0705 - val_accuracy: 0.6788\n",
            "Epoch 19/20\n",
            "263/263 [==============================] - 1s 5ms/step - loss: 1.0509 - accuracy: 0.6804 - val_loss: 1.0832 - val_accuracy: 0.6731\n",
            "Epoch 20/20\n",
            "263/263 [==============================] - 1s 5ms/step - loss: 1.0383 - accuracy: 0.6860 - val_loss: 1.0754 - val_accuracy: 0.6710\n"
          ]
        }
      ]
    },
    {
      "cell_type": "markdown",
      "metadata": {
        "id": "MeF8XSWz0XIU"
      },
      "source": [
        "### **Plot the Training and Validation Accuracies and write down your Observations.**"
      ]
    },
    {
      "cell_type": "code",
      "execution_count": null,
      "metadata": {
        "id": "lt77zgGMP4yw",
        "colab": {
          "base_uri": "https://localhost:8080/",
          "height": 489
        },
        "outputId": "7dffa270-b142-426f-9b28-0f0df92ac8b0"
      },
      "outputs": [
        {
          "output_type": "display_data",
          "data": {
            "text/plain": [
              "<Figure size 640x480 with 1 Axes>"
            ],
            "image/png": "[encoded data removed]"
          },
          "metadata": {}
        },
        {
          "output_type": "stream",
          "name": "stdout",
          "text": [
            "563/563 [==============================] - 5s 8ms/step - loss: 1.0767 - accuracy: 0.6736\n"
          ]
        }
      ],
      "source": [
        "# Capture the learning history for each epoch\n",
        "hist = pd.DataFrame(history.history)\n",
        "hist['epoch'] = history.epoch\n",
        "\n",
        "# Plotting accuracy at different epochs\n",
        "plt.plot(history.history['accuracy'])\n",
        "plt.plot(history.history['val_accuracy'])\n",
        "plt.title('Model Accuracy')\n",
        "plt.ylabel('Accuracy')\n",
        "plt.xlabel('Epoch')\n",
        "plt.legend(['Train', 'Validation'], loc='upper left')\n",
        "plt.show()\n",
        "\n",
        "# Print the results\n",
        "results = model.evaluate(X_test, y_test)"
      ]
    },
    {
      "cell_type": "markdown",
      "metadata": {
        "id": "pGBbQpLONX7k"
      },
      "source": [
        "**Observations:**\n",
        "\n",
        "* Training and validation accuracy continues to increase with each epoch\n",
        "* Perhaps a more complex model could give better performance\n",
        "* Overall accuracy of this model is 68%"
      ]
    },
    {
      "cell_type": "markdown",
      "metadata": {
        "id": "z0qgLMBZm5-K"
      },
      "source": [
        "Let's build one more model with higher complexity and see if we can improve the performance of the model.\n",
        "\n",
        "First, we need to clear the previous model's history from the Keras backend. Also, let's fix the seed again after clearing the backend."
      ]
    },
    {
      "cell_type": "code",
      "execution_count": null,
      "metadata": {
        "id": "I_ih3wEU9wIk"
      },
      "outputs": [],
      "source": [
        "backend.clear_session()\n",
        "np.random.seed(100)\n",
        "random.seed(100)\n",
        "tf.random.set_seed(100)"
      ]
    },
    {
      "cell_type": "markdown",
      "metadata": {
        "id": "lT6o3TIKuCtk"
      },
      "source": [
        "### **Second Model Architecture**\n",
        "- Write a function that returns a sequential model with the following architecture:\n",
        " - First hidden layer with **256 nodes and the relu activation** and the **input shape = (1024, )**\n",
        " - Second hidden layer with **128 nodes and the relu activation**\n",
        " - Add the **Dropout layer with the rate equal to 0.2**\n",
        " - Third hidden layer with **64 nodes and the relu activation**\n",
        " - Fourth hidden layer with **64 nodes and the relu activation**\n",
        " - Fifth hidden layer with **32 nodes and the relu activation**\n",
        " - Add the **BatchNormalization layer**\n",
        " - Output layer with **activation as 'softmax' and number of nodes equal to the number of classes, i.e., 10**\n",
        " -Compile the model with the **loss equal to categorical_crossentropy, optimizer equal to Adam(learning_rate = 0.0005), and metric equal to 'accuracy'**. Do not fit the model here, just return the compiled model.\n",
        "- Call the nn_model_2 function and store the model in a new variable.\n",
        "- Print the summary of the model.\n",
        "- Fit on the train data with a **validation split of 0.2, batch size = 128, verbose = 1, and epochs = 30**. Store the model building history to use later for visualization."
      ]
    },
    {
      "cell_type": "markdown",
      "metadata": {
        "id": "f-ZjNBmH0XIV"
      },
      "source": [
        "### **Build and train the new ANN model as per the above mentioned architecture**"
      ]
    },
    {
      "cell_type": "code",
      "execution_count": null,
      "metadata": {
        "id": "EEPYLFIPnSDP"
      },
      "outputs": [],
      "source": [
        "# Define the model\n",
        "\n",
        "def nn_model_2():\n",
        "  model = Sequential()\n",
        "\n",
        "  # Add layers\n",
        "\n",
        "  # This adds the input layer (by specifying input dimesion) AND the first hidden layer (units)\n",
        "  model.add(Dense(activation='relu', input_dim=1024, units=256))\n",
        "\n",
        "  # This adds the second hidden layer with 128 nodes\n",
        "  model.add(Dense(128, activation='relu'))\n",
        "\n",
        "  # This adds the Dropout layer\n",
        "  model.add(Dropout(0.2))\n",
        "\n",
        "  # This adds the third hidden layer\n",
        "  model.add(Dense(64, activation='relu'))\n",
        "\n",
        "  # This adds the fourth hidden layer\n",
        "  model.add(Dense(64, activation='relu'))\n",
        "\n",
        "  # This adds the fifth hidden layer\n",
        "  model.add(Dense(32, activation='relu'))\n",
        "\n",
        "  # Adds the batch normalization layer\n",
        "  model.add(BatchNormalization())\n",
        "\n",
        "  # Add the output layer\n",
        "  model.add(Dense(10, activation='softmax'))\n",
        "\n",
        "  # Compile\n",
        "  optimizer = tf.keras.optimizers.Adam(.0005)\n",
        "  model.compile(optimizer=optimizer, loss='categorical_crossentropy', metrics=['accuracy'])\n",
        "\n",
        "  return model"
      ]
    },
    {
      "cell_type": "code",
      "source": [
        "# Call the model and store as a new variable\n",
        "model = nn_model_2()\n",
        "\n",
        "# Print the model summary\n",
        "model.summary()\n",
        "\n"
      ],
      "metadata": {
        "colab": {
          "base_uri": "https://localhost:8080/"
        },
        "id": "W2XWbYTzzkzB",
        "outputId": "5d0a7285-2a22-4a42-9a5d-d0e4e1834921"
      },
      "execution_count": null,
      "outputs": [
        {
          "output_type": "stream",
          "name": "stdout",
          "text": [
            "Model: \"sequential\"\n",
            "_________________________________________________________________\n",
            " Layer (type)                Output Shape              Param #   \n",
            "=================================================================\n",
            " dense (Dense)               (None, 256)               262400    \n",
            "                                                                 \n",
            " dense_1 (Dense)             (None, 128)               32896     \n",
            "                                                                 \n",
            " dropout (Dropout)           (None, 128)               0         \n",
            "                                                                 \n",
            " dense_2 (Dense)             (None, 64)                8256      \n",
            "                                                                 \n",
            " dense_3 (Dense)             (None, 64)                4160      \n",
            "                                                                 \n",
            " dense_4 (Dense)             (None, 32)                2080      \n",
            "                                                                 \n",
            " batch_normalization (BatchN  (None, 32)               128       \n",
            " ormalization)                                                   \n",
            "                                                                 \n",
            " dense_5 (Dense)             (None, 10)                330       \n",
            "                                                                 \n",
            "=================================================================\n",
            "Total params: 310,250\n",
            "Trainable params: 310,186\n",
            "Non-trainable params: 64\n",
            "_________________________________________________________________\n"
          ]
        }
      ]
    },
    {
      "cell_type": "code",
      "source": [
        "# Fit on train data and store as history\n",
        "history = model.fit(X_train, y_train,\n",
        "                    validation_split=0.2,\n",
        "                    epochs=30,\n",
        "                    batch_size=128, verbose=1\n",
        "                    )"
      ],
      "metadata": {
        "colab": {
          "base_uri": "https://localhost:8080/"
        },
        "id": "vaaS08wqzv8I",
        "outputId": "5f8a7e6a-ec24-4d77-b91c-a3f1ed1df103"
      },
      "execution_count": null,
      "outputs": [
        {
          "output_type": "stream",
          "name": "stdout",
          "text": [
            "Epoch 1/30\n",
            "263/263 [==============================] - 7s 12ms/step - loss: 2.3717 - accuracy: 0.1005 - val_loss: 2.3057 - val_accuracy: 0.1025\n",
            "Epoch 2/30\n",
            "263/263 [==============================] - 3s 12ms/step - loss: 2.1920 - accuracy: 0.1821 - val_loss: 2.0722 - val_accuracy: 0.2854\n",
            "Epoch 3/30\n",
            "263/263 [==============================] - 4s 14ms/step - loss: 1.7820 - accuracy: 0.3722 - val_loss: 1.6190 - val_accuracy: 0.4354\n",
            "Epoch 4/30\n",
            "263/263 [==============================] - 5s 19ms/step - loss: 1.5565 - accuracy: 0.4592 - val_loss: 1.4498 - val_accuracy: 0.5142\n",
            "Epoch 5/30\n",
            "263/263 [==============================] - 4s 16ms/step - loss: 1.3879 - accuracy: 0.5326 - val_loss: 1.2719 - val_accuracy: 0.5831\n",
            "Epoch 6/30\n",
            "263/263 [==============================] - 3s 12ms/step - loss: 1.2429 - accuracy: 0.5886 - val_loss: 1.2613 - val_accuracy: 0.5710\n",
            "Epoch 7/30\n",
            "263/263 [==============================] - 4s 14ms/step - loss: 1.1533 - accuracy: 0.6212 - val_loss: 1.1387 - val_accuracy: 0.6283\n",
            "Epoch 8/30\n",
            "263/263 [==============================] - 5s 17ms/step - loss: 1.0936 - accuracy: 0.6440 - val_loss: 1.1236 - val_accuracy: 0.6394\n",
            "Epoch 9/30\n",
            "263/263 [==============================] - 3s 12ms/step - loss: 1.0444 - accuracy: 0.6626 - val_loss: 1.0869 - val_accuracy: 0.6539\n",
            "Epoch 10/30\n",
            "263/263 [==============================] - 3s 12ms/step - loss: 1.0047 - accuracy: 0.6767 - val_loss: 0.9838 - val_accuracy: 0.6821\n",
            "Epoch 11/30\n",
            "263/263 [==============================] - 6s 22ms/step - loss: 0.9851 - accuracy: 0.6848 - val_loss: 0.9373 - val_accuracy: 0.7007\n",
            "Epoch 12/30\n",
            "263/263 [==============================] - 5s 19ms/step - loss: 0.9609 - accuracy: 0.6930 - val_loss: 0.9737 - val_accuracy: 0.6904\n",
            "Epoch 13/30\n",
            "263/263 [==============================] - 3s 12ms/step - loss: 0.9309 - accuracy: 0.7041 - val_loss: 0.9541 - val_accuracy: 0.6987\n",
            "Epoch 14/30\n",
            "263/263 [==============================] - 3s 12ms/step - loss: 0.9262 - accuracy: 0.7037 - val_loss: 0.9264 - val_accuracy: 0.7075\n",
            "Epoch 15/30\n",
            "263/263 [==============================] - 3s 12ms/step - loss: 0.9047 - accuracy: 0.7102 - val_loss: 0.8996 - val_accuracy: 0.7146\n",
            "Epoch 16/30\n",
            "263/263 [==============================] - 5s 18ms/step - loss: 0.8925 - accuracy: 0.7183 - val_loss: 0.8805 - val_accuracy: 0.7223\n",
            "Epoch 17/30\n",
            "263/263 [==============================] - 4s 13ms/step - loss: 0.8803 - accuracy: 0.7193 - val_loss: 0.9786 - val_accuracy: 0.6886\n",
            "Epoch 18/30\n",
            "263/263 [==============================] - 3s 12ms/step - loss: 0.8576 - accuracy: 0.7282 - val_loss: 0.8403 - val_accuracy: 0.7314\n",
            "Epoch 19/30\n",
            "263/263 [==============================] - 3s 12ms/step - loss: 0.8421 - accuracy: 0.7318 - val_loss: 0.8526 - val_accuracy: 0.7311\n",
            "Epoch 20/30\n",
            "263/263 [==============================] - 4s 16ms/step - loss: 0.8337 - accuracy: 0.7354 - val_loss: 0.8236 - val_accuracy: 0.7407\n",
            "Epoch 21/30\n",
            "263/263 [==============================] - 4s 16ms/step - loss: 0.8202 - accuracy: 0.7369 - val_loss: 0.8995 - val_accuracy: 0.7163\n",
            "Epoch 22/30\n",
            "263/263 [==============================] - 3s 12ms/step - loss: 0.8123 - accuracy: 0.7402 - val_loss: 0.8983 - val_accuracy: 0.7120\n",
            "Epoch 23/30\n",
            "263/263 [==============================] - 3s 12ms/step - loss: 0.8149 - accuracy: 0.7422 - val_loss: 0.8342 - val_accuracy: 0.7393\n",
            "Epoch 24/30\n",
            "263/263 [==============================] - 4s 14ms/step - loss: 0.8019 - accuracy: 0.7442 - val_loss: 0.8015 - val_accuracy: 0.7489\n",
            "Epoch 25/30\n",
            "263/263 [==============================] - 5s 18ms/step - loss: 0.7917 - accuracy: 0.7483 - val_loss: 0.8457 - val_accuracy: 0.7342\n",
            "Epoch 26/30\n",
            "263/263 [==============================] - 3s 12ms/step - loss: 0.7822 - accuracy: 0.7533 - val_loss: 0.7982 - val_accuracy: 0.7543\n",
            "Epoch 27/30\n",
            "263/263 [==============================] - 4s 14ms/step - loss: 0.7768 - accuracy: 0.7538 - val_loss: 0.7979 - val_accuracy: 0.7562\n",
            "Epoch 28/30\n",
            "263/263 [==============================] - 3s 13ms/step - loss: 0.7704 - accuracy: 0.7535 - val_loss: 0.7879 - val_accuracy: 0.7524\n",
            "Epoch 29/30\n",
            "263/263 [==============================] - 5s 19ms/step - loss: 0.7628 - accuracy: 0.7576 - val_loss: 0.8400 - val_accuracy: 0.7371\n",
            "Epoch 30/30\n",
            "263/263 [==============================] - 3s 11ms/step - loss: 0.7556 - accuracy: 0.7598 - val_loss: 0.8015 - val_accuracy: 0.7435\n"
          ]
        }
      ]
    },
    {
      "cell_type": "markdown",
      "metadata": {
        "id": "ZJYsvjmw0XIX"
      },
      "source": [
        "### **Plot the Training and Validation Accuracies and write down your Observations.**"
      ]
    },
    {
      "cell_type": "code",
      "execution_count": null,
      "metadata": {
        "id": "01ig6BrF1KVy",
        "colab": {
          "base_uri": "https://localhost:8080/",
          "height": 489
        },
        "outputId": "e9fe7b2a-d67a-41ce-cc46-6f54076615c4"
      },
      "outputs": [
        {
          "output_type": "display_data",
          "data": {
            "text/plain": [
              "<Figure size 640x480 with 1 Axes>"
            ],
            "image/png": "[encoded data removed]"
          },
          "metadata": {}
        },
        {
          "output_type": "stream",
          "name": "stdout",
          "text": [
            "563/563 [==============================] - 5s 8ms/step - loss: 0.8042 - accuracy: 0.7452\n"
          ]
        }
      ],
      "source": [
        "# Capture the learning history for each epoch\n",
        "hist = pd.DataFrame(history.history)\n",
        "hist['epoch'] = history.epoch\n",
        "\n",
        "# Plotting accuracy at different epochs\n",
        "plt.plot(history.history['accuracy'])\n",
        "plt.plot(history.history['val_accuracy'])\n",
        "plt.title('Model Accuracy')\n",
        "plt.ylabel('Accuracy')\n",
        "plt.xlabel('Epoch')\n",
        "plt.legend(['Train', 'Validation'], loc='upper left')\n",
        "plt.show()\n",
        "\n",
        "# Print the results\n",
        "results = model.evaluate(X_test, y_test)"
      ]
    },
    {
      "cell_type": "markdown",
      "metadata": {
        "id": "VPW1LlD61RDn"
      },
      "source": [
        "**Observations:_______**\n",
        "* Overall model accuracy is 74%\n",
        "* Training and validation accuracy are similar - the model does not seem to be overfitting\n",
        "* Accuracy increases dramatically until epoch 10 and then increases more slowly\n",
        "* We continue to see improvement in accuracy through epoch 30, perhaps a more complicated model could do better\n",
        "* There is some noise in the validation loss behavior"
      ]
    },
    {
      "cell_type": "markdown",
      "metadata": {
        "id": "8kuXx9Bvu00f"
      },
      "source": [
        "## **Predictions on the test data**\n",
        "\n",
        "- Make predictions on the test set using the second model.\n",
        "- Print the obtained results using the classification report and the confusion matrix.\n",
        "- Final observations on the obtained results."
      ]
    },
    {
      "cell_type": "code",
      "execution_count": null,
      "metadata": {
        "id": "xbWMEtTj5Ad0",
        "colab": {
          "base_uri": "https://localhost:8080/"
        },
        "outputId": "1473a98c-81d9-4e4c-8ad1-ab30f549bee2"
      },
      "outputs": [
        {
          "output_type": "stream",
          "name": "stdout",
          "text": [
            "563/563 [==============================] - 2s 3ms/step\n"
          ]
        }
      ],
      "source": [
        "# Get predictions for y_test\n",
        "\n",
        "y_pred = model.predict(X_test)"
      ]
    },
    {
      "cell_type": "markdown",
      "metadata": {
        "id": "i3li8Ib08yts"
      },
      "source": [
        "**Note:** Earlier, we noticed that each entry of the target variable is a one-hot encoded vector but to print the classification report and confusion matrix, we must convert each entry of y_test to a single label."
      ]
    },
    {
      "cell_type": "code",
      "source": [
        "# Converting each entry of y_pred to single label from one-hot encoded vector\n",
        "\n",
        "y_pred = np.argmax(y_pred, axis = -1)"
      ],
      "metadata": {
        "id": "37x4c74Y3EDk"
      },
      "execution_count": null,
      "outputs": []
    },
    {
      "cell_type": "code",
      "source": [
        "y_pred"
      ],
      "metadata": {
        "colab": {
          "base_uri": "https://localhost:8080/"
        },
        "id": "zc0Vzjqd3r_X",
        "outputId": "5bd70cb0-2307-4dc5-a9f6-c33e2e998523"
      },
      "execution_count": null,
      "outputs": [
        {
          "output_type": "execute_result",
          "data": {
            "text/plain": [
              "array([2, 7, 2, ..., 7, 9, 2])"
            ]
          },
          "metadata": {},
          "execution_count": 30
        }
      ]
    },
    {
      "cell_type": "code",
      "source": [
        "# Converting each entry of y_test to single label from one-hot encoded vector\n",
        "\n",
        "y_test_labels = np.argmax(y_test, axis=-1)"
      ],
      "metadata": {
        "id": "JeD7uM-v3Gak"
      },
      "execution_count": null,
      "outputs": []
    },
    {
      "cell_type": "markdown",
      "metadata": {
        "id": "1_SIoopr0XIg"
      },
      "source": [
        "### **Print the classification report and the confusion matrix for the test predictions. Write your observations on the final results.**"
      ]
    },
    {
      "cell_type": "code",
      "execution_count": null,
      "metadata": {
        "id": "xRddeJ-3EHT1",
        "colab": {
          "base_uri": "https://localhost:8080/"
        },
        "outputId": "7ce4295a-ba3d-4ef7-ff1d-457fe42cc615"
      },
      "outputs": [
        {
          "output_type": "stream",
          "name": "stdout",
          "text": [
            "              precision    recall  f1-score   support\n",
            "\n",
            "           0       0.78      0.76      0.77      1814\n",
            "           1       0.78      0.78      0.78      1828\n",
            "           2       0.67      0.83      0.74      1803\n",
            "           3       0.69      0.70      0.70      1719\n",
            "           4       0.84      0.79      0.81      1812\n",
            "           5       0.72      0.67      0.69      1768\n",
            "           6       0.71      0.77      0.74      1832\n",
            "           7       0.78      0.80      0.79      1808\n",
            "           8       0.70      0.69      0.70      1812\n",
            "           9       0.83      0.66      0.73      1804\n",
            "\n",
            "    accuracy                           0.75     18000\n",
            "   macro avg       0.75      0.74      0.74     18000\n",
            "weighted avg       0.75      0.75      0.75     18000\n",
            "\n"
          ]
        }
      ],
      "source": [
        "from sklearn.metrics import classification_report\n",
        "\n",
        "from sklearn.metrics import confusion_matrix\n",
        "\n",
        "# Print the classification report\n",
        "print(classification_report(y_test_labels, y_pred))"
      ]
    },
    {
      "cell_type": "code",
      "source": [
        "# Create the confusion matrix\n",
        "cm = confusion_matrix(y_test_labels, y_pred)\n",
        "\n",
        "# Plot the confusion matrix as a heat map\n",
        "plt.figure(figsize=(10,8))\n",
        "sns.heatmap(cm, annot=True)"
      ],
      "metadata": {
        "colab": {
          "base_uri": "https://localhost:8080/",
          "height": 693
        },
        "id": "LrocAdG99vTZ",
        "outputId": "3d8e6a25-abd7-4d39-d3bc-6a1d63305232"
      },
      "execution_count": null,
      "outputs": [
        {
          "output_type": "execute_result",
          "data": {
            "text/plain": [
              "<Axes: >"
            ]
          },
          "metadata": {},
          "execution_count": 33
        },
        {
          "output_type": "display_data",
          "data": {
            "text/plain": [
              "<Figure size 1000x800 with 2 Axes>"
            ],
            "image/png": "[encoded data removed]"
          },
          "metadata": {}
        }
      ]
    },
    {
      "cell_type": "markdown",
      "metadata": {
        "id": "DjErl4GA2u9s"
      },
      "source": [
        "**Final Observations:__________**\n",
        "* Most of the classes were predicted correctly\n",
        "* Misclassification happens most frequently with 2 and 7, 5 and 3, 6 and 8\n",
        "* Overall recall is 75% and precision is 75%\n",
        "* Most digits have a fairly high recall and precision\n",
        "* Digits 5, 8 and 9 have the lowest recall\n",
        "* Digits 2 and 3 have the lowest precision"
      ]
    },
    {
      "cell_type": "markdown",
      "metadata": {
        "id": "xkR4JioMsuIV"
      },
      "source": [
        "## **Using Convolutional Neural Networks**"
      ]
    },
    {
      "cell_type": "markdown",
      "metadata": {
        "id": "YN2YgkGL_6xQ"
      },
      "source": [
        "### **Load the dataset again and split the data into the train and the test dataset.**"
      ]
    },
    {
      "cell_type": "code",
      "execution_count": null,
      "metadata": {
        "id": "mqM204HbAjP2",
        "scrolled": true
      },
      "outputs": [],
      "source": [
        "h5f = h5py.File('/content/drive/MyDrive/SVHN_single_grey1.h5', 'r')\n",
        "\n",
        "# Load the training and test datasets\n",
        "\n",
        "X_train = h5f['X_train'][:]\n",
        "\n",
        "y_train = h5f['y_train'][:]\n",
        "\n",
        "X_test = h5f['X_test'][:]\n",
        "\n",
        "y_test = h5f['y_test'][:]\n",
        "\n",
        "\n",
        "# Close this file\n",
        "\n",
        "h5f.close()"
      ]
    },
    {
      "cell_type": "markdown",
      "metadata": {
        "id": "6fPqF_xGAjQB"
      },
      "source": [
        "Check the number of images in the training and the testing dataset."
      ]
    },
    {
      "cell_type": "code",
      "execution_count": null,
      "metadata": {
        "id": "gTLJZWjPAjQB",
        "colab": {
          "base_uri": "https://localhost:8080/"
        },
        "outputId": "2e67bb1f-15b1-44a6-8e59-0efa68026e82"
      },
      "outputs": [
        {
          "output_type": "stream",
          "name": "stdout",
          "text": [
            "(42000, 32, 32) (18000, 32, 32)\n"
          ]
        }
      ],
      "source": [
        "# Print the shape of the training and test dataset\n",
        "\n",
        "print(X_train.shape, X_test.shape)"
      ]
    },
    {
      "cell_type": "markdown",
      "metadata": {
        "id": "9qyMiP_rAjQB"
      },
      "source": [
        "**Observation:**\n",
        "\n",
        "* There are 42,000 training images and 18,000 test images\n"
      ]
    },
    {
      "cell_type": "markdown",
      "metadata": {
        "id": "OJndFfEVAjQG"
      },
      "source": [
        "## **Data preparation**\n",
        "\n",
        "- Print the shape and the array of pixels for the first image in the training dataset.\n",
        "- Reshape the train and the test dataset because we always have to give a 4D array as input to CNNs.\n",
        "- Normalize the train and the test dataset by dividing by 255.\n",
        "- Print the new shapes of the train and the test dataset.\n",
        "- One-hot encode the target variable."
      ]
    },
    {
      "cell_type": "code",
      "execution_count": null,
      "metadata": {
        "id": "W4uXqKz1AjQG",
        "colab": {
          "base_uri": "https://localhost:8080/"
        },
        "outputId": "07a49da9-cc4a-4f12-ad1c-5fb6adb2dacd"
      },
      "outputs": [
        {
          "output_type": "stream",
          "name": "stdout",
          "text": [
            "(32, 32)\n"
          ]
        }
      ],
      "source": [
        "print(X_train[0].shape)"
      ]
    },
    {
      "cell_type": "code",
      "source": [
        "print(X_train[0])"
      ],
      "metadata": {
        "colab": {
          "base_uri": "https://localhost:8080/"
        },
        "id": "77A4WCciUs5L",
        "outputId": "49385b86-5271-4e9b-ff16-ec91c77c22bf"
      },
      "execution_count": null,
      "outputs": [
        {
          "output_type": "stream",
          "name": "stdout",
          "text": [
            "[[ 33.0704  30.2601  26.852  ...  71.4471  58.2204  42.9939]\n",
            " [ 25.2283  25.5533  29.9765 ... 113.0209 103.3639  84.2949]\n",
            " [ 26.2775  22.6137  40.4763 ... 113.3028 121.775  115.4228]\n",
            " ...\n",
            " [ 28.5502  36.212   45.0801 ...  24.1359  25.0927  26.0603]\n",
            " [ 38.4352  26.4733  23.2717 ...  28.1094  29.4683  30.0661]\n",
            " [ 50.2984  26.0773  24.0389 ...  49.6682  50.853   53.0377]]\n"
          ]
        }
      ]
    },
    {
      "cell_type": "markdown",
      "metadata": {
        "id": "at30iiX1__7F"
      },
      "source": [
        "Reshape the dataset to be able to pass them to CNNs. Remember that we always have to give a 4D array as input to CNNs"
      ]
    },
    {
      "cell_type": "code",
      "execution_count": null,
      "metadata": {
        "id": "D9YPwf9ysqWU"
      },
      "outputs": [],
      "source": [
        "# Reshape to a 4D array\n",
        "\n",
        "X_train = X_train.reshape(X_train.shape[0], 32, 32, 1)\n",
        "\n",
        "X_test = X_test.reshape(X_test.shape[0], 32, 32, 1)"
      ]
    },
    {
      "cell_type": "markdown",
      "metadata": {
        "id": "ODYnoLfaAEGx"
      },
      "source": [
        "Normalize inputs from 0-255 to 0-1"
      ]
    },
    {
      "cell_type": "code",
      "source": [
        "# Normalize inputs from 0-255 to 0-1\n",
        "\n",
        "X_train = X_train / 255.0\n",
        "\n",
        "X_test = X_test / 255.0"
      ],
      "metadata": {
        "id": "xbV9A3FjU5_N"
      },
      "execution_count": null,
      "outputs": []
    },
    {
      "cell_type": "markdown",
      "metadata": {
        "id": "cS9T4HqjAoyM"
      },
      "source": [
        "Print New shape of Training and Test"
      ]
    },
    {
      "cell_type": "code",
      "source": [
        "# Print the new shape of training and test\n",
        "\n",
        "print(X_train.shape, X_test.shape)"
      ],
      "metadata": {
        "colab": {
          "base_uri": "https://localhost:8080/"
        },
        "id": "C-DTRIaZVgmA",
        "outputId": "63df4a44-8f87-4cf3-b06f-207898eb09be"
      },
      "execution_count": null,
      "outputs": [
        {
          "output_type": "stream",
          "name": "stdout",
          "text": [
            "(42000, 32, 32, 1) (18000, 32, 32, 1)\n"
          ]
        }
      ]
    },
    {
      "cell_type": "code",
      "source": [
        "# Examine the values for the first training image in the reshaped format\n",
        "\n",
        "print(X_train[0])"
      ],
      "metadata": {
        "colab": {
          "base_uri": "https://localhost:8080/"
        },
        "id": "gL-KhfKpV0OZ",
        "outputId": "94f6a1f3-1239-4954-c3fe-dead1dcb62d2"
      },
      "execution_count": null,
      "outputs": [
        {
          "output_type": "stream",
          "name": "stdout",
          "text": [
            "[[[0.12968785]\n",
            "  [0.11866706]\n",
            "  [0.10530196]\n",
            "  ...\n",
            "  [0.2801847 ]\n",
            "  [0.2283153 ]\n",
            "  [0.16860352]]\n",
            "\n",
            " [[0.09893451]\n",
            "  [0.10020902]\n",
            "  [0.1175549 ]\n",
            "  ...\n",
            "  [0.4432192 ]\n",
            "  [0.40534863]\n",
            "  [0.33056822]]\n",
            "\n",
            " [[0.10304902]\n",
            "  [0.08868118]\n",
            "  [0.15873058]\n",
            "  ...\n",
            "  [0.44432473]\n",
            "  [0.47754902]\n",
            "  [0.45263842]]\n",
            "\n",
            " ...\n",
            "\n",
            " [[0.11196157]\n",
            "  [0.14200786]\n",
            "  [0.17678471]\n",
            "  ...\n",
            "  [0.09465059]\n",
            "  [0.09840274]\n",
            "  [0.10219726]]\n",
            "\n",
            " [[0.15072627]\n",
            "  [0.10381687]\n",
            "  [0.09126157]\n",
            "  ...\n",
            "  [0.11023294]\n",
            "  [0.11556196]\n",
            "  [0.11790627]]\n",
            "\n",
            " [[0.19724864]\n",
            "  [0.10226392]\n",
            "  [0.0942702 ]\n",
            "  ...\n",
            "  [0.19477727]\n",
            "  [0.19942354]\n",
            "  [0.20799099]]]\n"
          ]
        }
      ]
    },
    {
      "cell_type": "markdown",
      "metadata": {
        "id": "10QaOV-xR7Jn"
      },
      "source": [
        "### **One-hot encode the labels in the target variable y_train and y_test.**"
      ]
    },
    {
      "cell_type": "code",
      "execution_count": null,
      "metadata": {
        "id": "3KHWFWKMAjQH"
      },
      "outputs": [],
      "source": [
        "y_train = tf.keras.utils.to_categorical(y_train)\n",
        "y_test = tf.keras.utils.to_categorical(y_test)"
      ]
    },
    {
      "cell_type": "markdown",
      "metadata": {
        "id": "H-8jYVQTAjQH"
      },
      "source": [
        "**Observation:**\n",
        "\n",
        "* The training data is now 42,000 x 32 x 32 x 1\n",
        "* The test data is now 18,000 x 32 x 32 x 1\n"
      ]
    },
    {
      "cell_type": "markdown",
      "metadata": {
        "id": "Vjx_LI4_AjQH"
      },
      "source": [
        "## **Model Building**\n",
        "\n",
        "Now that we have done data preprocessing, let's build a CNN model.\n",
        "Fix the seed for random number generators"
      ]
    },
    {
      "cell_type": "code",
      "execution_count": null,
      "metadata": {
        "id": "ZY5pyF4-KDNt"
      },
      "outputs": [],
      "source": [
        "# Fixing the seed for random number generators\n",
        "import random\n",
        "np.random.seed(100)\n",
        "random.seed(100)\n",
        "tf.random.set_seed(100)"
      ]
    },
    {
      "cell_type": "markdown",
      "metadata": {
        "id": "1JUAczhzAjQH"
      },
      "source": [
        "### **Model Architecture**\n",
        "- **Write a function** that returns a sequential model with the following architecture:\n",
        " - First Convolutional layer with **16 filters and the kernel size of 3x3**. Use the **'same' padding** and provide the **input shape = (32, 32, 1)**\n",
        " - Add a **LeakyRelu layer** with the **slope equal to 0.1**\n",
        " - Second Convolutional layer with **32 filters and the kernel size of 3x3 with 'same' padding**\n",
        " - Another **LeakyRelu** with the **slope equal to 0.1**\n",
        " - A **max-pooling layer** with a **pool size of 2x2**\n",
        " - **Flatten** the output from the previous layer\n",
        " - Add a **dense layer with 32 nodes**\n",
        " - Add a **LeakyRelu layer with the slope equal to 0.1**\n",
        " - Add the final **output layer with nodes equal to the number of classes, i.e., 10** and **'softmax' as the activation function**\n",
        " - Compile the model with the **loss equal to categorical_crossentropy, optimizer equal to Adam(learning_rate = 0.001), and metric equal to 'accuracy'**. Do not fit the model here, just return the compiled model.\n",
        "- Call the function cnn_model_1 and store the output in a new variable.\n",
        "- Print the summary of the model.\n",
        "- Fit the model on the training data with a **validation split of 0.2, batch size = 32, verbose = 1, and epochs = 20**. Store the model building history to use later for visualization."
      ]
    },
    {
      "cell_type": "markdown",
      "metadata": {
        "id": "JWsAd45JKDNu"
      },
      "source": [
        "### **Build and train a CNN model as per the above mentioned architecture.**"
      ]
    },
    {
      "cell_type": "code",
      "execution_count": null,
      "metadata": {
        "id": "L1jOYANWAjQH"
      },
      "outputs": [],
      "source": [
        "def cnn_model_1():\n",
        "  model = Sequential()\n",
        "\n",
        "  # Convolutional layer with 16 filters and kernel size of 3x3\n",
        "  model.add(Conv2D(16, (3,3), activation='relu', padding=\"same\", input_shape=(32,32,1)))\n",
        "\n",
        "  # LeakyReLU layer with slope equal to 0.1\n",
        "  model.add(LeakyReLU(alpha=0.1))\n",
        "\n",
        "  # Second convolutional layer with 32 filters and kernel size of 3x3 with same padding\n",
        "  model.add(Conv2D(32, (3,3), padding=\"same\"))\n",
        "\n",
        "  # LeakyReLU with slope equal to 0.1\n",
        "  model.add(LeakyReLU(alpha=0.1))\n",
        "\n",
        "  # Max pooling layer\n",
        "  model.add(MaxPooling2D(2,2))\n",
        "\n",
        "  # flatten the output of the conv layer after max pooling\n",
        "  model.add(Flatten())\n",
        "\n",
        "  # Dense layer with 32 nodes\n",
        "  model.add(Dense(32, activation='relu'))\n",
        "\n",
        "  #LeakyReLU with slope 0.1\n",
        "  model.add(LeakyReLU(alpha=0.1))\n",
        "\n",
        "  # Output layer\n",
        "  model.add(Dense(10, activation='softmax'))\n",
        "\n",
        "  # Optimizer\n",
        "  opt = Adam(learning_rate=0.001)\n",
        "\n",
        "  # Compile model\n",
        "  model.compile(optimizer=opt, loss='categorical_crossentropy', metrics=['accuracy'])\n",
        "\n",
        "  return model"
      ]
    },
    {
      "cell_type": "code",
      "source": [
        "cnn_model_1 = cnn_model_1()"
      ],
      "metadata": {
        "id": "jFlyFpY9YuMZ"
      },
      "execution_count": null,
      "outputs": []
    },
    {
      "cell_type": "code",
      "source": [
        "cnn_model_1.summary()"
      ],
      "metadata": {
        "colab": {
          "base_uri": "https://localhost:8080/"
        },
        "id": "s5oh0IB4ZScJ",
        "outputId": "8b2d68cf-b641-4a78-f9a1-ade255acaaa6"
      },
      "execution_count": null,
      "outputs": [
        {
          "output_type": "stream",
          "name": "stdout",
          "text": [
            "Model: \"sequential_1\"\n",
            "_________________________________________________________________\n",
            " Layer (type)                Output Shape              Param #   \n",
            "=================================================================\n",
            " conv2d (Conv2D)             (None, 32, 32, 16)        160       \n",
            "                                                                 \n",
            " leaky_re_lu (LeakyReLU)     (None, 32, 32, 16)        0         \n",
            "                                                                 \n",
            " conv2d_1 (Conv2D)           (None, 32, 32, 32)        4640      \n",
            "                                                                 \n",
            " leaky_re_lu_1 (LeakyReLU)   (None, 32, 32, 32)        0         \n",
            "                                                                 \n",
            " max_pooling2d (MaxPooling2D  (None, 16, 16, 32)       0         \n",
            " )                                                               \n",
            "                                                                 \n",
            " flatten (Flatten)           (None, 8192)              0         \n",
            "                                                                 \n",
            " dense_6 (Dense)             (None, 32)                262176    \n",
            "                                                                 \n",
            " leaky_re_lu_2 (LeakyReLU)   (None, 32)                0         \n",
            "                                                                 \n",
            " dense_7 (Dense)             (None, 10)                330       \n",
            "                                                                 \n",
            "=================================================================\n",
            "Total params: 267,306\n",
            "Trainable params: 267,306\n",
            "Non-trainable params: 0\n",
            "_________________________________________________________________\n"
          ]
        }
      ]
    },
    {
      "cell_type": "code",
      "source": [
        "# Fit the model on the training data with a validation split of 0.2, batch size = 32, verbose = 1, and epochs = 20. Store the model building history to use later for visualization\n",
        "\n",
        "history = cnn_model_1.fit(\n",
        "    X_train, y_train,\n",
        "    epochs=20,\n",
        "    validation_split=0.2,\n",
        "    batch_size=32,\n",
        "    verbose=1\n",
        ")"
      ],
      "metadata": {
        "colab": {
          "base_uri": "https://localhost:8080/"
        },
        "id": "JIBrs9jWYL6H",
        "outputId": "9631d9de-6648-42bc-adff-a5c9f89de930"
      },
      "execution_count": null,
      "outputs": [
        {
          "output_type": "stream",
          "name": "stdout",
          "text": [
            "Epoch 1/20\n",
            "1050/1050 [==============================] - 102s 96ms/step - loss: 1.4228 - accuracy: 0.5153 - val_loss: 0.7178 - val_accuracy: 0.7921\n",
            "Epoch 2/20\n",
            "1050/1050 [==============================] - 99s 95ms/step - loss: 0.6293 - accuracy: 0.8166 - val_loss: 0.6077 - val_accuracy: 0.8257\n",
            "Epoch 3/20\n",
            "1050/1050 [==============================] - 95s 90ms/step - loss: 0.5410 - accuracy: 0.8418 - val_loss: 0.5514 - val_accuracy: 0.8436\n",
            "Epoch 4/20\n",
            "1050/1050 [==============================] - 94s 90ms/step - loss: 0.4872 - accuracy: 0.8573 - val_loss: 0.5375 - val_accuracy: 0.8463\n",
            "Epoch 5/20\n",
            "1050/1050 [==============================] - 99s 94ms/step - loss: 0.4489 - accuracy: 0.8695 - val_loss: 0.5127 - val_accuracy: 0.8526\n",
            "Epoch 6/20\n",
            "1050/1050 [==============================] - 94s 90ms/step - loss: 0.4142 - accuracy: 0.8790 - val_loss: 0.5054 - val_accuracy: 0.8588\n",
            "Epoch 7/20\n",
            "1050/1050 [==============================] - 95s 90ms/step - loss: 0.3838 - accuracy: 0.8895 - val_loss: 0.4872 - val_accuracy: 0.8626\n",
            "Epoch 8/20\n",
            "1050/1050 [==============================] - 113s 108ms/step - loss: 0.3601 - accuracy: 0.8929 - val_loss: 0.4838 - val_accuracy: 0.8644\n",
            "Epoch 9/20\n",
            "1050/1050 [==============================] - 95s 91ms/step - loss: 0.3371 - accuracy: 0.8994 - val_loss: 0.4754 - val_accuracy: 0.8690\n",
            "Epoch 10/20\n",
            "1050/1050 [==============================] - 96s 91ms/step - loss: 0.3167 - accuracy: 0.9055 - val_loss: 0.4819 - val_accuracy: 0.8718\n",
            "Epoch 11/20\n",
            "1050/1050 [==============================] - 97s 92ms/step - loss: 0.2972 - accuracy: 0.9111 - val_loss: 0.4812 - val_accuracy: 0.8717\n",
            "Epoch 12/20\n",
            "1050/1050 [==============================] - 94s 89ms/step - loss: 0.2771 - accuracy: 0.9152 - val_loss: 0.4890 - val_accuracy: 0.8738\n",
            "Epoch 13/20\n",
            "1050/1050 [==============================] - 94s 90ms/step - loss: 0.2590 - accuracy: 0.9224 - val_loss: 0.4979 - val_accuracy: 0.8752\n",
            "Epoch 14/20\n",
            "1050/1050 [==============================] - 95s 90ms/step - loss: 0.2407 - accuracy: 0.9265 - val_loss: 0.4980 - val_accuracy: 0.8745\n",
            "Epoch 15/20\n",
            "1050/1050 [==============================] - 94s 89ms/step - loss: 0.2253 - accuracy: 0.9312 - val_loss: 0.5218 - val_accuracy: 0.8695\n",
            "Epoch 16/20\n",
            "1050/1050 [==============================] - 97s 92ms/step - loss: 0.2080 - accuracy: 0.9362 - val_loss: 0.5294 - val_accuracy: 0.8714\n",
            "Epoch 17/20\n",
            "1050/1050 [==============================] - 97s 93ms/step - loss: 0.1944 - accuracy: 0.9406 - val_loss: 0.5462 - val_accuracy: 0.8706\n",
            "Epoch 18/20\n",
            "1050/1050 [==============================] - 95s 90ms/step - loss: 0.1827 - accuracy: 0.9427 - val_loss: 0.5526 - val_accuracy: 0.8707\n",
            "Epoch 19/20\n",
            "1050/1050 [==============================] - 95s 90ms/step - loss: 0.1659 - accuracy: 0.9490 - val_loss: 0.5646 - val_accuracy: 0.8705\n",
            "Epoch 20/20\n",
            "1050/1050 [==============================] - 95s 90ms/step - loss: 0.1539 - accuracy: 0.9526 - val_loss: 0.6121 - val_accuracy: 0.8619\n"
          ]
        }
      ]
    },
    {
      "cell_type": "markdown",
      "metadata": {
        "id": "JPzfIf9kKDNw"
      },
      "source": [
        "### **Plot the Training and Validation Accuracies and Write your observations.**"
      ]
    },
    {
      "cell_type": "code",
      "execution_count": null,
      "metadata": {
        "id": "07oUCr1kAjQH",
        "colab": {
          "base_uri": "https://localhost:8080/",
          "height": 472
        },
        "outputId": "6f494a1c-d047-43f7-cdb2-452969ef9645"
      },
      "outputs": [
        {
          "output_type": "display_data",
          "data": {
            "text/plain": [
              "<Figure size 640x480 with 1 Axes>"
            ],
            "image/png": "[encoded data removed]"
          },
          "metadata": {}
        }
      ],
      "source": [
        "plt.plot(history.history['accuracy'])\n",
        "plt.plot(history.history['val_accuracy'])\n",
        "plt.title('Model Accuracy')\n",
        "plt.ylabel('Accuracy')\n",
        "plt.xlabel('Epoch')\n",
        "plt.legend(['Train', 'Validation'], loc='upper left')\n",
        "plt.show()"
      ]
    },
    {
      "cell_type": "markdown",
      "metadata": {
        "id": "P6zTLyp9AjQH"
      },
      "source": [
        "**Observations:__________**\n",
        "* Training accuracy continued to improve while validation accuracy flattened out after epoch 2 around 85%\n",
        "* This model might be too complex and overfitting"
      ]
    },
    {
      "cell_type": "markdown",
      "metadata": {
        "id": "Ukvtg2eMAjQH"
      },
      "source": [
        "Let's build another model and see if we can get a better model with generalized performance.\n",
        "\n",
        "First, we need to clear the previous model's history from the Keras backend. Also, let's fix the seed again after clearing the backend."
      ]
    },
    {
      "cell_type": "markdown",
      "metadata": {
        "id": "Ep19Jd8HAjQH"
      },
      "source": [
        "### **Second Model Architecture**\n",
        "\n",
        "- Write a function that returns a sequential model with the following architecture:\n",
        " - First Convolutional layer with **16 filters and the kernel size of 3x3**. Use the **'same' padding** and provide the **input shape = (32, 32, 1)**\n",
        " - Add a **LeakyRelu layer** with the **slope equal to 0.1**\n",
        " - Second Convolutional layer with **32 filters and the kernel size of 3x3 with 'same' padding**\n",
        " - Add **LeakyRelu** with the **slope equal to 0.1**\n",
        " - Add a **max-pooling layer** with a **pool size of 2x2**\n",
        " - Add a **BatchNormalization layer**\n",
        " - Third Convolutional layer with **32 filters and the kernel size of 3x3 with 'same' padding**\n",
        " - Add a **LeakyRelu layer with the slope equal to 0.1**\n",
        " - Fourth Convolutional layer **64 filters and the kernel size of 3x3 with 'same' padding**\n",
        " - Add a **LeakyRelu layer with the slope equal to 0.1**\n",
        " - Add a **max-pooling layer** with a **pool size of 2x2**\n",
        " - Add a **BatchNormalization layer**\n",
        " - **Flatten** the output from the previous layer\n",
        " - Add a **dense layer with 32 nodes**\n",
        " - Add a **LeakyRelu layer with the slope equal to 0.1**\n",
        " - Add a **dropout layer with the rate equal to 0.5**\n",
        " - Add the final **output layer with nodes equal to the number of classes, i.e., 10** and **'softmax' as the activation function**\n",
        " - Compile the model with the **categorical_crossentropy loss, adam optimizers (learning_rate = 0.001), and metric equal to 'accuracy'**. Do not fit the model here, just return the compiled model.\n",
        "- Call the function cnn_model_2 and store the model in a new variable.\n",
        "- Print the summary of the model.\n",
        "- Fit the model on the train data with a **validation split of 0.2, batch size = 128, verbose = 1, and epochs = 20**. Store the model building history to use later for visualization."
      ]
    },
    {
      "cell_type": "markdown",
      "metadata": {
        "id": "y5IBLS1eKDNy"
      },
      "source": [
        "### **Build and train the second CNN model as per the above mentioned architecture.**"
      ]
    },
    {
      "cell_type": "code",
      "execution_count": null,
      "metadata": {
        "id": "wk9sl2UEAjQH"
      },
      "outputs": [],
      "source": [
        "def cnn_model_2():\n",
        "  model = Sequential()\n",
        "\n",
        "  # Convolutional layer with 16 filters and kernel size of 3x3\n",
        "  model.add(Conv2D(16, (3,3), padding=\"same\", input_shape=(32,32,1)))\n",
        "\n",
        "  # LeakyReLU layer with slope equal to 0.1\n",
        "  model.add(LeakyReLU(alpha=0.1))\n",
        "\n",
        "  # Second convolutional layer with 32 filters and kernel size of 3x3 with same padding\n",
        "  model.add(Conv2D(32, (3,3), padding=\"same\"))\n",
        "\n",
        "  # LeakyReLU with slope equal to 0.1\n",
        "  model.add(LeakyReLU(alpha=0.1))\n",
        "\n",
        "  # Max pooling layer\n",
        "  model.add(MaxPooling2D(2,2))\n",
        "\n",
        "  # Adds the batch normalization layer\n",
        "  model.add(BatchNormalization())\n",
        "\n",
        "  # Third convolutional layer\n",
        "  model.add(Conv2D(32, (3,3), padding=\"same\"))\n",
        "\n",
        "  # LeakyReLU with slope equal to 0.1\n",
        "  model.add(LeakyReLU(alpha=0.1))\n",
        "\n",
        "  # Fourth convolutional layer\n",
        "  model.add(Conv2D(64, (3,3), padding=\"same\"))\n",
        "\n",
        "  # LeakyReLU with slope equal to 0.1\n",
        "  model.add(LeakyReLU(alpha=0.1))\n",
        "\n",
        "  # Max Pool\n",
        "  model.add(MaxPooling2D(2,2))\n",
        "\n",
        "  # Batch Normalization\n",
        "  model.add(BatchNormalization())\n",
        "\n",
        "  # Flatten\n",
        "  model.add(Flatten())\n",
        "\n",
        "  # Dense Layer with 32 Nodes\n",
        "  model.add(Dense(32))\n",
        "\n",
        "  # LeakyRelu\n",
        "  model.add(LeakyReLU(alpha=0.1))\n",
        "\n",
        "  # Dropout\n",
        "  model.add(Dropout(0.5))\n",
        "\n",
        "  # Final output layer with nodes equal to number of classes\n",
        "  model.add(Dense(10, activation='softmax'))\n",
        "\n",
        "  # Adam optimizer with learning rate = .001\n",
        "  opt = Adam(learning_rate=0.001)\n",
        "\n",
        "  # Compile model\n",
        "  model.compile(optimizer=opt, loss='categorical_crossentropy', metrics=['accuracy'])\n",
        "\n",
        "  return model"
      ]
    },
    {
      "cell_type": "code",
      "source": [
        "cnn_model_2 = cnn_model_2()"
      ],
      "metadata": {
        "id": "DCkSKnN_nKQF"
      },
      "execution_count": null,
      "outputs": []
    },
    {
      "cell_type": "code",
      "source": [
        "cnn_model_2.summary()"
      ],
      "metadata": {
        "colab": {
          "base_uri": "https://localhost:8080/"
        },
        "id": "zuknFpTBna_p",
        "outputId": "2ba08e07-6743-4110-a351-24f19660268b"
      },
      "execution_count": null,
      "outputs": [
        {
          "output_type": "stream",
          "name": "stdout",
          "text": [
            "Model: \"sequential_2\"\n",
            "_________________________________________________________________\n",
            " Layer (type)                Output Shape              Param #   \n",
            "=================================================================\n",
            " conv2d_2 (Conv2D)           (None, 32, 32, 16)        160       \n",
            "                                                                 \n",
            " leaky_re_lu_3 (LeakyReLU)   (None, 32, 32, 16)        0         \n",
            "                                                                 \n",
            " conv2d_3 (Conv2D)           (None, 32, 32, 32)        4640      \n",
            "                                                                 \n",
            " leaky_re_lu_4 (LeakyReLU)   (None, 32, 32, 32)        0         \n",
            "                                                                 \n",
            " max_pooling2d_1 (MaxPooling  (None, 16, 16, 32)       0         \n",
            " 2D)                                                             \n",
            "                                                                 \n",
            " batch_normalization_1 (Batc  (None, 16, 16, 32)       128       \n",
            " hNormalization)                                                 \n",
            "                                                                 \n",
            " conv2d_4 (Conv2D)           (None, 16, 16, 32)        9248      \n",
            "                                                                 \n",
            " leaky_re_lu_5 (LeakyReLU)   (None, 16, 16, 32)        0         \n",
            "                                                                 \n",
            " conv2d_5 (Conv2D)           (None, 16, 16, 64)        18496     \n",
            "                                                                 \n",
            " leaky_re_lu_6 (LeakyReLU)   (None, 16, 16, 64)        0         \n",
            "                                                                 \n",
            " max_pooling2d_2 (MaxPooling  (None, 8, 8, 64)         0         \n",
            " 2D)                                                             \n",
            "                                                                 \n",
            " batch_normalization_2 (Batc  (None, 8, 8, 64)         256       \n",
            " hNormalization)                                                 \n",
            "                                                                 \n",
            " flatten_1 (Flatten)         (None, 4096)              0         \n",
            "                                                                 \n",
            " dense_8 (Dense)             (None, 32)                131104    \n",
            "                                                                 \n",
            " leaky_re_lu_7 (LeakyReLU)   (None, 32)                0         \n",
            "                                                                 \n",
            " dropout_1 (Dropout)         (None, 32)                0         \n",
            "                                                                 \n",
            " dense_9 (Dense)             (None, 10)                330       \n",
            "                                                                 \n",
            "=================================================================\n",
            "Total params: 164,362\n",
            "Trainable params: 164,170\n",
            "Non-trainable params: 192\n",
            "_________________________________________________________________\n"
          ]
        }
      ]
    },
    {
      "cell_type": "code",
      "source": [
        "# Fit the model on the training data\n",
        "history = cnn_model_2.fit(\n",
        "    X_train, y_train,\n",
        "    epochs=20,\n",
        "    validation_split=0.2,\n",
        "    batch_size=128,\n",
        "    verbose=1\n",
        ")"
      ],
      "metadata": {
        "colab": {
          "base_uri": "https://localhost:8080/"
        },
        "id": "zi-_eCUSnQ3c",
        "outputId": "4f9ea920-27b6-4478-ef79-e03237478d46"
      },
      "execution_count": null,
      "outputs": [
        {
          "output_type": "stream",
          "name": "stdout",
          "text": [
            "Epoch 1/20\n",
            "263/263 [==============================] - 164s 619ms/step - loss: 1.4357 - accuracy: 0.5100 - val_loss: 1.9675 - val_accuracy: 0.2975\n",
            "Epoch 2/20\n",
            "263/263 [==============================] - 153s 581ms/step - loss: 0.6619 - accuracy: 0.7965 - val_loss: 0.4803 - val_accuracy: 0.8562\n",
            "Epoch 3/20\n",
            "263/263 [==============================] - 157s 598ms/step - loss: 0.5465 - accuracy: 0.8333 - val_loss: 0.4292 - val_accuracy: 0.8757\n",
            "Epoch 4/20\n",
            "263/263 [==============================] - 154s 585ms/step - loss: 0.4820 - accuracy: 0.8533 - val_loss: 0.3945 - val_accuracy: 0.8871\n",
            "Epoch 5/20\n",
            "263/263 [==============================] - 156s 591ms/step - loss: 0.4352 - accuracy: 0.8660 - val_loss: 0.4661 - val_accuracy: 0.8614\n",
            "Epoch 6/20\n",
            "263/263 [==============================] - 157s 599ms/step - loss: 0.4096 - accuracy: 0.8765 - val_loss: 0.3819 - val_accuracy: 0.8912\n",
            "Epoch 7/20\n",
            "263/263 [==============================] - 157s 596ms/step - loss: 0.3706 - accuracy: 0.8854 - val_loss: 0.3502 - val_accuracy: 0.9039\n",
            "Epoch 8/20\n",
            "263/263 [==============================] - 155s 591ms/step - loss: 0.3404 - accuracy: 0.8921 - val_loss: 0.3840 - val_accuracy: 0.8964\n",
            "Epoch 9/20\n",
            "263/263 [==============================] - 155s 590ms/step - loss: 0.3306 - accuracy: 0.8988 - val_loss: 0.3526 - val_accuracy: 0.9077\n",
            "Epoch 10/20\n",
            "263/263 [==============================] - 155s 588ms/step - loss: 0.3109 - accuracy: 0.9032 - val_loss: 0.3686 - val_accuracy: 0.8995\n",
            "Epoch 11/20\n",
            "263/263 [==============================] - 157s 596ms/step - loss: 0.3009 - accuracy: 0.9065 - val_loss: 0.3806 - val_accuracy: 0.9069\n",
            "Epoch 12/20\n",
            "263/263 [==============================] - 155s 589ms/step - loss: 0.2749 - accuracy: 0.9132 - val_loss: 0.3773 - val_accuracy: 0.9060\n",
            "Epoch 13/20\n",
            "263/263 [==============================] - 149s 566ms/step - loss: 0.2707 - accuracy: 0.9134 - val_loss: 0.3790 - val_accuracy: 0.9043\n",
            "Epoch 14/20\n",
            "263/263 [==============================] - 151s 576ms/step - loss: 0.2568 - accuracy: 0.9180 - val_loss: 0.3940 - val_accuracy: 0.8990\n",
            "Epoch 15/20\n",
            "263/263 [==============================] - 152s 577ms/step - loss: 0.2522 - accuracy: 0.9184 - val_loss: 0.3857 - val_accuracy: 0.8988\n",
            "Epoch 16/20\n",
            "263/263 [==============================] - 150s 572ms/step - loss: 0.2296 - accuracy: 0.9265 - val_loss: 0.4101 - val_accuracy: 0.8983\n",
            "Epoch 17/20\n",
            "263/263 [==============================] - 151s 575ms/step - loss: 0.2226 - accuracy: 0.9271 - val_loss: 0.3755 - val_accuracy: 0.9129\n",
            "Epoch 18/20\n",
            "263/263 [==============================] - 151s 575ms/step - loss: 0.2226 - accuracy: 0.9278 - val_loss: 0.4353 - val_accuracy: 0.8932\n",
            "Epoch 19/20\n",
            "263/263 [==============================] - 150s 570ms/step - loss: 0.2154 - accuracy: 0.9296 - val_loss: 0.4215 - val_accuracy: 0.9023\n",
            "Epoch 20/20\n",
            "263/263 [==============================] - 147s 559ms/step - loss: 0.1973 - accuracy: 0.9350 - val_loss: 0.4422 - val_accuracy: 0.9077\n"
          ]
        }
      ]
    },
    {
      "cell_type": "markdown",
      "metadata": {
        "id": "PyhUtMy3KDN1"
      },
      "source": [
        "### **Plot the Training and Validation accuracies and write your observations.**"
      ]
    },
    {
      "cell_type": "code",
      "execution_count": null,
      "metadata": {
        "id": "YVQu7uWiAjQH",
        "colab": {
          "base_uri": "https://localhost:8080/",
          "height": 472
        },
        "outputId": "1c7a8884-6e60-410c-c1bb-75a59427b24e"
      },
      "outputs": [
        {
          "output_type": "display_data",
          "data": {
            "text/plain": [
              "<Figure size 640x480 with 1 Axes>"
            ],
            "image/png": "[encoded data removed]"
          },
          "metadata": {}
        }
      ],
      "source": [
        "plt.plot(history.history['accuracy'])\n",
        "plt.plot(history.history['val_accuracy'])\n",
        "plt.title('Model Accuracy')\n",
        "plt.ylabel('Accuracy')\n",
        "plt.xlabel('Epoch')\n",
        "plt.legend(['Train', 'Validation'], loc='upper left')\n",
        "plt.show()"
      ]
    },
    {
      "cell_type": "markdown",
      "metadata": {
        "id": "Qrrt0Ac3AjQH"
      },
      "source": [
        "**Observations:________**\n",
        "* This model took a really long time to train\n",
        "* Validation accuracy reaches about 90% after 5 epochs and then does not improve much after\n",
        "* 90% accuracy is quite good and better than any of the other models we tried"
      ]
    },
    {
      "cell_type": "markdown",
      "metadata": {
        "id": "kja4SnOdAjQI"
      },
      "source": [
        "## **Predictions on the test data**\n",
        "\n",
        "- Make predictions on the test set using the second model.\n",
        "- Print the obtained results using the classification report and the confusion matrix.\n",
        "- Final observations on the obtained results."
      ]
    },
    {
      "cell_type": "markdown",
      "metadata": {
        "id": "eHCRwRbgKDN2"
      },
      "source": [
        "### **Make predictions on the test data using the second model.**"
      ]
    },
    {
      "cell_type": "code",
      "execution_count": null,
      "metadata": {
        "id": "f1d-VvaLAjQI",
        "colab": {
          "base_uri": "https://localhost:8080/"
        },
        "outputId": "e1476387-9f89-445e-b3e9-b227aed14313"
      },
      "outputs": [
        {
          "output_type": "stream",
          "name": "stdout",
          "text": [
            "563/563 [==============================] - 25s 44ms/step\n"
          ]
        }
      ],
      "source": [
        "# Predict on the test data set\n",
        "\n",
        "test_pred = cnn_model_2.predict(X_test)\n",
        "\n"
      ]
    },
    {
      "cell_type": "markdown",
      "metadata": {
        "id": "DrV1tOG0AjQI"
      },
      "source": [
        "**Note:** Earlier, we noticed that each entry of the target variable is a one-hot encoded vector, but to print the classification report and confusion matrix, we must convert each entry of y_test to a single label."
      ]
    },
    {
      "cell_type": "code",
      "execution_count": null,
      "metadata": {
        "id": "dUSHU9W0AjQI"
      },
      "outputs": [],
      "source": [
        "test_pred = np.argmax(test_pred, axis = -1)"
      ]
    },
    {
      "cell_type": "code",
      "source": [
        "test_pred"
      ],
      "metadata": {
        "colab": {
          "base_uri": "https://localhost:8080/"
        },
        "id": "Qx3yB8mARaLW",
        "outputId": "341e694a-e90c-41f1-d64f-abe458a9fe48"
      },
      "execution_count": null,
      "outputs": [
        {
          "output_type": "execute_result",
          "data": {
            "text/plain": [
              "array([1, 7, 2, ..., 7, 5, 2])"
            ]
          },
          "metadata": {},
          "execution_count": 56
        }
      ]
    },
    {
      "cell_type": "code",
      "source": [
        "y_test_labels"
      ],
      "metadata": {
        "colab": {
          "base_uri": "https://localhost:8080/"
        },
        "id": "zWkJ7eHrRa76",
        "outputId": "416e2a09-a200-4d39-9b1a-259b4fc05132"
      },
      "execution_count": null,
      "outputs": [
        {
          "output_type": "execute_result",
          "data": {
            "text/plain": [
              "array([1, 7, 2, ..., 7, 9, 2])"
            ]
          },
          "metadata": {},
          "execution_count": 57
        }
      ]
    },
    {
      "cell_type": "markdown",
      "metadata": {
        "id": "aVCa-ysWKDN3"
      },
      "source": [
        "### **Write your final observations on the performance of the model on the test data.**"
      ]
    },
    {
      "cell_type": "code",
      "execution_count": null,
      "metadata": {
        "id": "sOMq2rCJAjQJ",
        "colab": {
          "base_uri": "https://localhost:8080/",
          "height": 693
        },
        "outputId": "4f49e45a-fd2b-49af-84b3-e358ad0e6902"
      },
      "outputs": [
        {
          "output_type": "execute_result",
          "data": {
            "text/plain": [
              "<Axes: >"
            ]
          },
          "metadata": {},
          "execution_count": 62
        },
        {
          "output_type": "display_data",
          "data": {
            "text/plain": [
              "<Figure size 1000x800 with 2 Axes>"
            ],
            "image/png": "[encoded data removed]"
          },
          "metadata": {}
        }
      ],
      "source": [
        "# Create the confusion matrix\n",
        "cm = confusion_matrix(y_test_labels, test_pred)\n",
        "\n",
        "# Plot the confusion matrix as a heat map\n",
        "plt.figure(figsize=(10,8))\n",
        "sns.heatmap(cm, annot=True)"
      ]
    },
    {
      "cell_type": "code",
      "source": [
        "print(classification_report(y_test_labels, test_pred))"
      ],
      "metadata": {
        "colab": {
          "base_uri": "https://localhost:8080/"
        },
        "id": "l8-zXbKDwgyb",
        "outputId": "d6e73dec-8de6-4dd0-d20b-18b5cee40aa7"
      },
      "execution_count": null,
      "outputs": [
        {
          "output_type": "stream",
          "name": "stdout",
          "text": [
            "              precision    recall  f1-score   support\n",
            "\n",
            "           0       0.94      0.94      0.94      1814\n",
            "           1       0.83      0.94      0.88      1828\n",
            "           2       0.92      0.93      0.92      1803\n",
            "           3       0.91      0.87      0.89      1719\n",
            "           4       0.91      0.93      0.92      1812\n",
            "           5       0.87      0.93      0.90      1768\n",
            "           6       0.92      0.88      0.90      1832\n",
            "           7       0.94      0.91      0.93      1808\n",
            "           8       0.92      0.86      0.89      1812\n",
            "           9       0.93      0.90      0.92      1804\n",
            "\n",
            "    accuracy                           0.91     18000\n",
            "   macro avg       0.91      0.91      0.91     18000\n",
            "weighted avg       0.91      0.91      0.91     18000\n",
            "\n"
          ]
        }
      ]
    },
    {
      "cell_type": "markdown",
      "metadata": {
        "id": "TNN9v713AjQJ"
      },
      "source": [
        "**Final Observations:_________**\n",
        "\n",
        "* The second CNN model produces much better results than the second fully connected network\n",
        "* Precision and Recall are 91% for the CNN compared to around 75% for the second ANN model\n",
        "* Almost all the digits are predicted correctly in the confusion matrix, where the ANN model got some digits confused\n",
        "* However, the CNN model took much longer to train"
      ]
    }
  ],
  "metadata": {
    "accelerator": "TPU",
    "colab": {
      "provenance": []
    },
    "kernelspec": {
      "display_name": "Python 3 (ipykernel)",
      "language": "python",
      "name": "python3"
    },
    "language_info": {
      "codemirror_mode": {
        "name": "ipython",
        "version": 3
      },
      "file_extension": ".py",
      "mimetype": "text/x-python",
      "name": "python",
      "nbconvert_exporter": "python",
      "pygments_lexer": "ipython3",
      "version": "3.9.7"
    }
  },
  "nbformat": 4,
  "nbformat_minor": 0
}